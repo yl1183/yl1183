{
 "cells": [
  {
   "cell_type": "code",
   "execution_count": 116,
   "metadata": {},
   "outputs": [],
   "source": [
    "def maxArea(height):\n",
    "     L = 0\n",
    "     R = 0\n",
    "     if len(height) <= 2:\n",
    "          if len(height) ==2:\n",
    "               return min(height) * 1\n",
    "          else:\n",
    "               return 0\n",
    "     if len(height)%2 == 0:\n",
    "          left = len(height)//2-1\n",
    "          right = len(height)//2  \n",
    "     else:\n",
    "          mid = len(height)//2\n",
    "          left = mid-1\n",
    "          right = mid+1\n",
    "     while left-1 >= 0 and right+1 < len(height):\n",
    "          if height[right+1] >= height[right]:\n",
    "                 if right+1 == len(height)-1:\n",
    "                      R.append([right+1,height[right+1]])\n",
    "                 right = right+1\n",
    "          else:\n",
    "                 R.append([right,height[right]])\n",
    "                 right+=1\n",
    "          if height[left-1] >= height[left]:\n",
    "                 if left-1 == 0:\n",
    "                      L.append([left-1,height[left-1]])\n",
    "                 left= left-1\n",
    "          else:\n",
    "                 L.append([left,height[left]])\n",
    "                 left-=1\n",
    "     \n",
    "     \n",
    "     \n",
    "     result = 0\n",
    "     for i in L:\n",
    "           for o in R:\n",
    "               result = max(result,((o[0]-i[0])*min(o[1],i[1]))) \n",
    "\n",
    "     return result  \n",
    "\n",
    "                                  \n",
    "             \n",
    "\n",
    "                \n"
   ]
  },
  {
   "cell_type": "code",
   "execution_count": 117,
   "metadata": {},
   "outputs": [
    {
     "data": {
      "text/plain": [
       "0"
      ]
     },
     "execution_count": 117,
     "metadata": {},
     "output_type": "execute_result"
    }
   ],
   "source": [
    "maxArea([1,2,1])"
   ]
  },
  {
   "cell_type": "code",
   "execution_count": 100,
   "metadata": {},
   "outputs": [
    {
     "name": "stdout",
     "output_type": "stream",
     "text": [
      "8\n",
      "9\n"
     ]
    }
   ],
   "source": [
    "left = 0\n",
    "right = 1\n",
    "while right < len(tst):\n",
    "    if tst[right] > tst[left]:\n",
    "        if right == len(tst)-1:\n",
    "            print(tst[right])\n",
    "        left = right\n",
    "        right = right+1\n",
    "    else:\n",
    "        print(tst[left])\n",
    "        left = right\n",
    "        right=right+1\n",
    "\n"
   ]
  }
 ],
 "metadata": {
  "kernelspec": {
   "display_name": "Python 3",
   "language": "python",
   "name": "python3"
  },
  "language_info": {
   "codemirror_mode": {
    "name": "ipython",
    "version": 3
   },
   "file_extension": ".py",
   "mimetype": "text/x-python",
   "name": "python",
   "nbconvert_exporter": "python",
   "pygments_lexer": "ipython3",
   "version": "3.8.2 (default, Aug 25 2020, 15:54:26) [MSC v.1900 64 bit (AMD64)]"
  },
  "orig_nbformat": 4,
  "vscode": {
   "interpreter": {
    "hash": "9650cb4e16cdd4a8e8e2d128bf38d875813998db22a3c986335f89e0cb4d7bb2"
   }
  }
 },
 "nbformat": 4,
 "nbformat_minor": 2
}
